{
  "nbformat": 4,
  "nbformat_minor": 0,
  "metadata": {
    "colab": {
      "name": "Copy of Untitled0.ipynb",
      "provenance": [],
      "authorship_tag": "ABX9TyNVKye5vXC5RcAIQGcVxJga",
      "include_colab_link": true
    },
    "kernelspec": {
      "name": "python3",
      "display_name": "Python 3"
    }
  },
  "cells": [
    {
      "cell_type": "markdown",
      "metadata": {
        "id": "view-in-github",
        "colab_type": "text"
      },
      "source": [
        "<a href=\"https://colab.research.google.com/github/kuraba78/assignment-1/blob/master/Copy_of_Untitled0.ipynb\" target=\"_parent\"><img src=\"https://colab.research.google.com/assets/colab-badge.svg\" alt=\"Open In Colab\"/></a>"
      ]
    },
    {
      "cell_type": "markdown",
      "metadata": {
        "id": "iL8p6lagdw0D",
        "colab_type": "text"
      },
      "source": [
        " Write a python program to design simple calculator for the operators"
      ]
    },
    {
      "cell_type": "code",
      "metadata": {
        "id": "lI8N31N6mDsN",
        "colab_type": "code",
        "colab": {
          "base_uri": "https://localhost:8080/",
          "height": 68
        },
        "outputId": "d645b57b-7924-44bd-f7f7-1de467a1e02e"
      },
      "source": [
        "a=int(input('enter value of a:')) \n",
        "b=int(input('enter Value of b:')) \n",
        "print('difference of a and b is:',a-b)"
      ],
      "execution_count": null,
      "outputs": [
        {
          "output_type": "stream",
          "text": [
            "enter value of a:3\n",
            "enter Value of b:2\n",
            "difference of a and b is: 1\n"
          ],
          "name": "stdout"
        }
      ]
    },
    {
      "cell_type": "code",
      "metadata": {
        "id": "W3HzpqprpRTK",
        "colab_type": "code",
        "colab": {
          "base_uri": "https://localhost:8080/",
          "height": 68
        },
        "outputId": "a2ebadb4-5289-41df-d6c9-ef7a4df56186"
      },
      "source": [
        "Of a=int(input('enter value of a:')) \n",
        "b=int(input('enter Value of b:')) \n",
        "print('product of a and b is:',a*b)"
      ],
      "execution_count": null,
      "outputs": [
        {
          "output_type": "stream",
          "text": [
            "enter value of a:4\n",
            "enter Value of b:6\n",
            "product of a and b is: 24\n"
          ],
          "name": "stdout"
        }
      ]
    },
    {
      "cell_type": "code",
      "metadata": {
        "id": "xRgS_y0ZpeGM",
        "colab_type": "code",
        "colab": {
          "base_uri": "https://localhost:8080/",
          "height": 68
        },
        "outputId": "f2352be4-3e2e-4fd3-c85e-7f336b4bfc60"
      },
      "source": [
        " a=int(input('enter value of a:')) \n",
        "b=int(input('enter Value of b:')) \n",
        "print('coeficient of a and b is:',a/b)"
      ],
      "execution_count": null,
      "outputs": [
        {
          "output_type": "stream",
          "text": [
            "enter value of a:4\n",
            "enter Value of b:2\n",
            "coeficient of a and b is: 2.0\n"
          ],
          "name": "stdout"
        }
      ]
    },
    {
      "cell_type": "code",
      "metadata": {
        "id": "Q712se8Upwgi",
        "colab_type": "code",
        "colab": {
          "base_uri": "https://localhost:8080/",
          "height": 68
        },
        "outputId": "5976bef5-cafd-4d14-cb2b-b321bdbd14e0"
      },
      "source": [
        " a=int(input('enter value of a:')) \n",
        "b=int(input('enter Value of b:')) \n",
        "print('reminder of a and b is:',a%b)"
      ],
      "execution_count": null,
      "outputs": [
        {
          "output_type": "stream",
          "text": [
            "enter value of a:5\n",
            "enter Value of b:7\n",
            "reminder of a and b is: 5\n"
          ],
          "name": "stdout"
        }
      ]
    },
    {
      "cell_type": "code",
      "metadata": {
        "id": "aJ0QNBu9qD9q",
        "colab_type": "code",
        "colab": {
          "base_uri": "https://localhost:8080/",
          "height": 68
        },
        "outputId": "8214ece3-a926-433c-d938-f3720ceefcef"
      },
      "source": [
        " a=int(input('enter value of a:')) \n",
        "b=int(input('enter Value of b:')) \n",
        "print('a power of a and b is:',a**b)"
      ],
      "execution_count": null,
      "outputs": [
        {
          "output_type": "stream",
          "text": [
            "enter value of a:5\n",
            "enter Value of b:4\n",
            "a power of a and b is: 625\n"
          ],
          "name": "stdout"
        }
      ]
    },
    {
      "cell_type": "code",
      "metadata": {
        "id": "l4sieW1RqQRN",
        "colab_type": "code",
        "colab": {
          "base_uri": "https://localhost:8080/",
          "height": 68
        },
        "outputId": "d3cfb633-2b36-4066-d764-33afa781b4d2"
      },
      "source": [
        " a=int(input('enter value of a:')) \n",
        "b=int(input('enter Value of b:')) \n",
        "print('floor of a and b is:',a//b)"
      ],
      "execution_count": null,
      "outputs": [
        {
          "output_type": "stream",
          "text": [
            "enter value of a:5\n",
            "enter Value of b:2\n",
            "floor of a and b is: 2\n"
          ],
          "name": "stdout"
        }
      ]
    },
    {
      "cell_type": "code",
      "metadata": {
        "id": "rgVKBjbjj_Q-",
        "colab_type": "code",
        "colab": {
          "base_uri": "https://localhost:8080/",
          "height": 68
        },
        "outputId": "f2172b7f-517d-459c-969b-76ac282070d4"
      },
      "source": [
        "a=int(input('enter valuue of a:')) \n",
        "b=int(input('enter Value of b:')) \n",
        "print('sum of a and b is:',a+b)"
      ],
      "execution_count": null,
      "outputs": [
        {
          "output_type": "stream",
          "text": [
            "enter value of a:3\n",
            "enter Value of b:2\n",
            "sum of a and b is: 5\n"
          ],
          "name": "stdout"
        }
      ]
    },
    {
      "cell_type": "markdown",
      "metadata": {
        "id": "QUn75e4vrSDv",
        "colab_type": "text"
      },
      "source": [
        "Write a python program to calculate simple intrest"
      ]
    },
    {
      "cell_type": "code",
      "metadata": {
        "id": "FPNIb6iJrg2G",
        "colab_type": "code",
        "colab": {
          "base_uri": "https://localhost:8080/",
          "height": 85
        },
        "outputId": "d917450d-4eae-43e9-d398-ca05f362da18"
      },
      "source": [
        "P=int(input('enter value of P:')) \n",
        "T=int(input('enter Value of T:'))\n",
        "R=int(input('enter value of R:')) \n",
        "print('simple intrest is:', ((P*T*R)/100))"
      ],
      "execution_count": null,
      "outputs": [
        {
          "output_type": "stream",
          "text": [
            "enter value of P:3\n",
            "enter Value of T:5\n",
            "enter value of R:6\n",
            "simple intrest is: 0.9\n"
          ],
          "name": "stdout"
        }
      ]
    },
    {
      "cell_type": "markdown",
      "metadata": {
        "id": "nGIw26TGs7P_",
        "colab_type": "text"
      },
      "source": [
        "Write a python program to calculate area of a circle"
      ]
    },
    {
      "cell_type": "code",
      "metadata": {
        "id": "u3L0eRyltDlh",
        "colab_type": "code",
        "colab": {
          "base_uri": "https://localhost:8080/",
          "height": 51
        },
        "outputId": "17acc62f-ae59-415f-c549-eb5229b12053"
      },
      "source": [
        "r=int(input('enter value of r:')) \n",
        "print('Area of circle is:',(3.14*r*r))"
      ],
      "execution_count": null,
      "outputs": [
        {
          "output_type": "stream",
          "text": [
            "enter value of r:5\n",
            "Area of circle is: 78.5\n"
          ],
          "name": "stdout"
        }
      ]
    },
    {
      "cell_type": "markdown",
      "metadata": {
        "id": "h1XZEQLBuCND",
        "colab_type": "text"
      },
      "source": [
        "Write a python program to calculate area of a triangle"
      ]
    },
    {
      "cell_type": "code",
      "metadata": {
        "id": "C5BnqFIsuLKz",
        "colab_type": "code",
        "colab": {
          "base_uri": "https://localhost:8080/",
          "height": 34
        },
        "outputId": "83b99ce1-e1ef-48af-d912-13e9ee88958a"
      },
      "source": [
        "S1=1\n",
        "S2=2\n",
        "S3=3\n",
        "print('Area of a triangle is:', (S1*S2*S3))"
      ],
      "execution_count": null,
      "outputs": [
        {
          "output_type": "stream",
          "text": [
            "Area of a triangle is: 6\n"
          ],
          "name": "stdout"
        }
      ]
    },
    {
      "cell_type": "markdown",
      "metadata": {
        "id": "nD6loidyuvqT",
        "colab_type": "text"
      },
      "source": [
        "Write a python program to temperature in celsius to Fahrenheit"
      ]
    },
    {
      "cell_type": "code",
      "metadata": {
        "id": "Z0RPsqlvu_l1",
        "colab_type": "code",
        "colab": {
          "base_uri": "https://localhost:8080/",
          "height": 54
        },
        "outputId": "7d445113-59fc-4324-ca2b-158df39dae4f"
      },
      "source": [
        "C=37\n",
        "print ('temperature in calsius to Fahrenheit:',(1.8*C+32))"
      ],
      "execution_count": null,
      "outputs": [
        {
          "output_type": "stream",
          "text": [
            "temperature in calsius to Fahrenheit: 98.60000000000001\n"
          ],
          "name": "stdout"
        }
      ]
    },
    {
      "cell_type": "markdown",
      "metadata": {
        "id": "ZwJvbtvQwD4J",
        "colab_type": "text"
      },
      "source": [
        " Write a python program to calculate area of rectangle"
      ]
    },
    {
      "cell_type": "code",
      "metadata": {
        "id": "QFE2M_SWwb3N",
        "colab_type": "code",
        "colab": {
          "base_uri": "https://localhost:8080/",
          "height": 34
        },
        "outputId": "43018ab2-35b2-4b61-8260-7a8756ce4cbf"
      },
      "source": [
        "l=3\n",
        "b=4\n",
        "print('area of rectangle:',(l*b))"
      ],
      "execution_count": null,
      "outputs": [
        {
          "output_type": "stream",
          "text": [
            "area of rectangle: 12\n"
          ],
          "name": "stdout"
        }
      ]
    },
    {
      "cell_type": "markdown",
      "metadata": {
        "id": "PJdgXBTBKSgY",
        "colab_type": "text"
      },
      "source": [
        " Write a python program to calculate perimeter of square"
      ]
    },
    {
      "cell_type": "code",
      "metadata": {
        "id": "s0iJgX0RK3LW",
        "colab_type": "code",
        "colab": {
          "base_uri": "https://localhost:8080/",
          "height": 34
        },
        "outputId": "64deb6e5-d83b-49f2-f39a-5d59d75df79e"
      },
      "source": [
        "Side=2\n",
        "print('perimeter of a square:',(4*Side))"
      ],
      "execution_count": null,
      "outputs": [
        {
          "output_type": "stream",
          "text": [
            "perimeter of a square: 8\n"
          ],
          "name": "stdout"
        }
      ]
    },
    {
      "cell_type": "markdown",
      "metadata": {
        "id": "aAwfsevRLWV7",
        "colab_type": "text"
      },
      "source": [
        " Write a python program to calculate Circumference of circle"
      ]
    },
    {
      "cell_type": "code",
      "metadata": {
        "id": "PeOY-Hg1Lnp4",
        "colab_type": "code",
        "colab": {
          "base_uri": "https://localhost:8080/",
          "height": 71
        },
        "outputId": "072d3588-6c84-49de-b9e7-cd26852b806c"
      },
      "source": [
        "r=int(input('enter the value of radius:')) \n",
        "print('circumference of circle:',(2*3.14*r))"
      ],
      "execution_count": null,
      "outputs": [
        {
          "output_type": "stream",
          "text": [
            "enter the value of radius:5\n",
            "circumference of circle: 31.400000000000002\n"
          ],
          "name": "stdout"
        }
      ]
    },
    {
      "cell_type": "markdown",
      "metadata": {
        "id": "EF6Q7gB8MaeX",
        "colab_type": "text"
      },
      "source": [
        "Write a python program to swap two numbers"
      ]
    },
    {
      "cell_type": "code",
      "metadata": {
        "id": "ov3lVR6PMk1D",
        "colab_type": "code",
        "colab": {
          "base_uri": "https://localhost:8080/",
          "height": 71
        },
        "outputId": "d2f8eed0-2cdd-46fe-aa48-87d21ad53ddc"
      },
      "source": [
        "a=5\n",
        "b=4\n",
        "c=3\n",
        "a=a+b\n",
        "b=a-b\n",
        "a=a-b\n",
        "print('value of a after swapping:',a) \n",
        "print('value of b after swapping:',b)"
      ],
      "execution_count": null,
      "outputs": [
        {
          "output_type": "stream",
          "text": [
            "value of a after swapping: 4\n",
            "value of b after swapping: 5\n"
          ],
          "name": "stdout"
        }
      ]
    }
  ]
}