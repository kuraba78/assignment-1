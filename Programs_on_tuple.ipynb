{
  "nbformat": 4,
  "nbformat_minor": 0,
  "metadata": {
    "colab": {
      "name": "Programs on tuple.ipynb",
      "provenance": [],
      "collapsed_sections": [],
      "authorship_tag": "ABX9TyNfNdns1rODF60BYsCslNny",
      "include_colab_link": true
    },
    "kernelspec": {
      "name": "python3",
      "display_name": "Python 3"
    }
  },
  "cells": [
    {
      "cell_type": "markdown",
      "metadata": {
        "id": "view-in-github",
        "colab_type": "text"
      },
      "source": [
        "<a href=\"https://colab.research.google.com/github/kuraba78/assignment-1/blob/master/Programs_on_tuple.ipynb\" target=\"_parent\"><img src=\"https://colab.research.google.com/assets/colab-badge.svg\" alt=\"Open In Colab\"/></a>"
      ]
    },
    {
      "cell_type": "code",
      "metadata": {
        "id": "liJZhnYDuELi",
        "colab_type": "code",
        "colab": {
          "base_uri": "https://localhost:8080/",
          "height": 84
        },
        "outputId": "33599bb2-2aab-47fe-cf88-fdc6634d13bb"
      },
      "source": [
        "# Python program to create a tuple.\n",
        "\n",
        "my_tuple = ()\n",
        "print(my_tuple)\n",
        "my_tuple = (1, 2, 3)\n",
        "print(my_tuple)\n",
        "my_tuple = (1, \"Hello\", 3.4)\n",
        "print(my_tuple)\n",
        "my_tuple = (\"mouse\", [8, 4, 6], (1, 2, 3))\n",
        "print(my_tuple)"
      ],
      "execution_count": null,
      "outputs": [
        {
          "output_type": "stream",
          "text": [
            "()\n",
            "(1, 2, 3)\n",
            "(1, 'Hello', 3.4)\n",
            "('mouse', [8, 4, 6], (1, 2, 3))\n"
          ],
          "name": "stdout"
        }
      ]
    },
    {
      "cell_type": "code",
      "metadata": {
        "id": "2ajblDnnuFTn",
        "colab_type": "code",
        "colab": {
          "base_uri": "https://localhost:8080/",
          "height": 33
        },
        "outputId": "931ce017-83f2-4c7e-f084-444843428b1e"
      },
      "source": [
        "# Python program to create a tuple with different data types.\n",
        "\n",
        "tuplex = (\"tuple\", False, 3.2, 1)\n",
        "print(tuplex)"
      ],
      "execution_count": null,
      "outputs": [
        {
          "output_type": "stream",
          "text": [
            "('tuple', False, 3.2, 1)\n"
          ],
          "name": "stdout"
        }
      ]
    },
    {
      "cell_type": "code",
      "metadata": {
        "id": "6Dhi0kNCuH9w",
        "colab_type": "code",
        "colab": {
          "base_uri": "https://localhost:8080/",
          "height": 33
        },
        "outputId": "b55c24d2-0078-4c83-fc98-41e3b37babb7"
      },
      "source": [
        "# Python program to convert a tuple to a string.\n",
        "\n",
        "tup = ('d', 'i', 'n', 'e', 's', 'h')\n",
        "str =  ''.join(tup)\n",
        "print(str)"
      ],
      "execution_count": null,
      "outputs": [
        {
          "output_type": "stream",
          "text": [
            "dinesh\n"
          ],
          "name": "stdout"
        }
      ]
    },
    {
      "cell_type": "code",
      "metadata": {
        "id": "fzSYZTjwuTCh",
        "colab_type": "code",
        "colab": {
          "base_uri": "https://localhost:8080/",
          "height": 84
        },
        "outputId": "4d827b32-7ea0-439e-a063-9f3423995945"
      },
      "source": [
        "# Python program to slice a tuple.\n",
        "\n",
        "tuplex = tuple(\"HELLO WORLD\")\n",
        "print(tuplex)\n",
        "_slice = tuplex[2:9:2]\n",
        "print(_slice) \n",
        "_slice = tuplex[::4]\n",
        "print(_slice)\n",
        "_slice = tuplex[9:2:-4]\n",
        "print(_slice)"
      ],
      "execution_count": null,
      "outputs": [
        {
          "output_type": "stream",
          "text": [
            "('H', 'E', 'L', 'L', 'O', ' ', 'W', 'O', 'R', 'L', 'D')\n",
            "('L', 'O', 'W', 'R')\n",
            "('H', 'O', 'R')\n",
            "('L', ' ')\n"
          ],
          "name": "stdout"
        }
      ]
    },
    {
      "cell_type": "code",
      "metadata": {
        "id": "rCpqEidMuVDW",
        "colab_type": "code",
        "colab": {
          "base_uri": "https://localhost:8080/",
          "height": 50
        },
        "outputId": "68c009fc-dbb3-4eb4-8ac2-3a5f901ae2c2"
      },
      "source": [
        "# Python program to find the length of a tuple.\n",
        "\n",
        "tuplex = tuple(\"python programming\")\n",
        "print(tuplex)\n",
        "print(len(tuplex))"
      ],
      "execution_count": null,
      "outputs": [
        {
          "output_type": "stream",
          "text": [
            "('p', 'y', 't', 'h', 'o', 'n', ' ', 'p', 'r', 'o', 'g', 'r', 'a', 'm', 'm', 'i', 'n', 'g')\n",
            "18\n"
          ],
          "name": "stdout"
        }
      ]
    },
    {
      "cell_type": "code",
      "metadata": {
        "id": "ULraIidtuX10",
        "colab_type": "code",
        "colab": {
          "base_uri": "https://localhost:8080/",
          "height": 33
        },
        "outputId": "f006e934-184c-42ab-87a0-b6129a3c7dbb"
      },
      "source": [
        "# Python program to convert a tuple to a dictionary.\n",
        "\n",
        "tuplex = ((2, \"w\"),(3, \"r\"))\n",
        "print(dict((y, x) for x, y in tuplex))"
      ],
      "execution_count": null,
      "outputs": [
        {
          "output_type": "stream",
          "text": [
            "{'w': 2, 'r': 3}\n"
          ],
          "name": "stdout"
        }
      ]
    },
    {
      "cell_type": "code",
      "metadata": {
        "id": "JUnIJOj7uaEs",
        "colab_type": "code",
        "colab": {
          "base_uri": "https://localhost:8080/",
          "height": 33
        },
        "outputId": "61858054-da75-4812-aea2-b3209747dd83"
      },
      "source": [
        "# Python program to reverse a tuple.\n",
        "\n",
        "x = (\"python\")\n",
        "y = reversed(x)\n",
        "print(tuple(y))"
      ],
      "execution_count": null,
      "outputs": [
        {
          "output_type": "stream",
          "text": [
            "('n', 'o', 'h', 't', 'y', 'p')\n"
          ],
          "name": "stdout"
        }
      ]
    },
    {
      "cell_type": "code",
      "metadata": {
        "id": "vC__QEaXucle",
        "colab_type": "code",
        "colab": {
          "base_uri": "https://localhost:8080/",
          "height": 33
        },
        "outputId": "c46e05fa-ea08-47d6-cd2a-f1049e896b8a"
      },
      "source": [
        "# Python program to convert a list of tuples into a dictionary.\n",
        "\n",
        "l = [(\"x\", 1), (\"x\", 2), (\"x\", 3), (\"y\", 1), (\"y\", 2), (\"z\", 1)]\n",
        "d = {}\n",
        "for a, b in l:\n",
        "    d.setdefault(a, []).append(b)\n",
        "print (d)"
      ],
      "execution_count": null,
      "outputs": [
        {
          "output_type": "stream",
          "text": [
            "{'x': [1, 2, 3], 'y': [1, 2], 'z': [1]}\n"
          ],
          "name": "stdout"
        }
      ]
    },
    {
      "cell_type": "code",
      "metadata": {
        "id": "eit0anq5ueZw",
        "colab_type": "code",
        "colab": {
          "base_uri": "https://localhost:8080/",
          "height": 33
        },
        "outputId": "9cb90720-f4a2-43be-caac-7e51d134d6ae"
      },
      "source": [
        "# Python program to convert a list of tuple.\n",
        "\n",
        "listx = [5, 10, 7, 4, 15, 3]\n",
        "tuplex = tuple(listx)\n",
        "print(tuplex)"
      ],
      "execution_count": null,
      "outputs": [
        {
          "output_type": "stream",
          "text": [
            "(5, 10, 7, 4, 15, 3)\n"
          ],
          "name": "stdout"
        }
      ]
    },
    {
      "cell_type": "code",
      "metadata": {
        "id": "UFgF36asug_J",
        "colab_type": "code",
        "colab": {}
      },
      "source": [
        ""
      ],
      "execution_count": null,
      "outputs": []
    }
  ]
}