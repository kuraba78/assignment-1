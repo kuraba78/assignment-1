{
  "nbformat": 4,
  "nbformat_minor": 0,
  "metadata": {
    "colab": {
      "name": "Dictionary Assignment.ipynb",
      "provenance": [],
      "authorship_tag": "ABX9TyNpU8RDhN4SkPV4t2TZdorf",
      "include_colab_link": true
    },
    "kernelspec": {
      "name": "python3",
      "display_name": "Python 3"
    }
  },
  "cells": [
    {
      "cell_type": "markdown",
      "metadata": {
        "id": "view-in-github",
        "colab_type": "text"
      },
      "source": [
        "<a href=\"https://colab.research.google.com/github/kuraba78/assignment-1/blob/master/Dictionary_Assignment.ipynb\" target=\"_parent\"><img src=\"https://colab.research.google.com/assets/colab-badge.svg\" alt=\"Open In Colab\"/></a>"
      ]
    },
    {
      "cell_type": "markdown",
      "metadata": {
        "id": "wbyi2SyRxZvj",
        "colab_type": "text"
      },
      "source": [
        "Q... What is dictionary in python? Explain with an example.\n",
        "\n",
        "A dictionary is an associative array (also known as hashes). Any key of the dictionary is associated (or mapped) to a value. The values of a dictionary can be any Python data type. So dictionaries are unordered key-value-pairs.Dictionaries belong to the built-in mapping type.\n"
      ]
    },
    {
      "cell_type": "code",
      "metadata": {
        "id": "jxAwmYkZxdXB",
        "colab_type": "code",
        "colab": {
          "base_uri": "https://localhost:8080/",
          "height": 50
        },
        "outputId": "6f985f2f-5fc8-42d1-a2db-ab2e7d7107a3"
      },
      "source": [
        "# Example for dictionary in python.\n",
        "\n",
        "mydict = {'StuName': 'Ajeet', 'StuAge': 30, 'StuCity': 'Agra'}\n",
        "print(\"Student Age is:\", mydict['StuAge'])\n",
        "print(\"Student City is:\", mydict['StuCity'])"
      ],
      "execution_count": null,
      "outputs": [
        {
          "output_type": "stream",
          "text": [
            "Student Age is: 30\n",
            "Student City is: Agra\n"
          ],
          "name": "stdout"
        }
      ]
    },
    {
      "cell_type": "code",
      "metadata": {
        "id": "UFIB4U6zxgFJ",
        "colab_type": "code",
        "colab": {
          "base_uri": "https://localhost:8080/",
          "height": 33
        },
        "outputId": "f1ec1a39-a160-4f6d-b950-142296f929ae"
      },
      "source": [
        "\n",
        "# Python program to sum all the items in a list.\n",
        "\n",
        "def sum_list(items):\n",
        "    sum_numbers = 0\n",
        "    for x in items:\n",
        "        sum_numbers += x\n",
        "    return sum_numbers\n",
        "print(sum_list([1,6,-2]))"
      ],
      "execution_count": null,
      "outputs": [
        {
          "output_type": "stream",
          "text": [
            "5\n"
          ],
          "name": "stdout"
        }
      ]
    },
    {
      "cell_type": "code",
      "metadata": {
        "id": "zSzFoIn_xjIg",
        "colab_type": "code",
        "colab": {
          "base_uri": "https://localhost:8080/",
          "height": 50
        },
        "outputId": "1bf0f055-314b-45cf-f005-c51ee8ced186"
      },
      "source": [
        "\n",
        "# Python program to create a list of empty dictionaries.\n",
        "\n",
        "n = int(input(\"Enter the number of dictionaries need to be created: \"))\n",
        "l = [{} for _ in range(n)]\n",
        "print(l)"
      ],
      "execution_count": null,
      "outputs": [
        {
          "output_type": "stream",
          "text": [
            "Enter the number of dictionaries need to be created: 10\n",
            "[{}, {}, {}, {}, {}, {}, {}, {}, {}, {}]\n"
          ],
          "name": "stdout"
        }
      ]
    },
    {
      "cell_type": "code",
      "metadata": {
        "id": "goDejiZSxlWC",
        "colab_type": "code",
        "colab": {
          "base_uri": "https://localhost:8080/",
          "height": 33
        },
        "outputId": "43551f28-c946-43b9-f6ca-93bcb997a934"
      },
      "source": [
        "\n",
        "# Python program to access dictionary keys element by index.\n",
        "\n",
        "num = {'Python': 80, 'math': 90, 'chemistry': 86}\n",
        "print(list(num)[0])"
      ],
      "execution_count": null,
      "outputs": [
        {
          "output_type": "stream",
          "text": [
            "Python\n"
          ],
          "name": "stdout"
        }
      ]
    },
    {
      "cell_type": "code",
      "metadata": {
        "id": "Nvja0Y2lxpi-",
        "colab_type": "code",
        "colab": {
          "base_uri": "https://localhost:8080/",
          "height": 33
        },
        "outputId": "474d44ef-a877-4bb9-e9d3-c88e6e01a74a"
      },
      "source": [
        "# Python program to sum all the items in a dictionary.\n",
        "\n",
        "my_dict = {'data1':10,'data2':-54,'data3':258}\n",
        "print(sum(my_dict.values()))"
      ],
      "execution_count": null,
      "outputs": [
        {
          "output_type": "stream",
          "text": [
            "214\n"
          ],
          "name": "stdout"
        }
      ]
    },
    {
      "cell_type": "code",
      "metadata": {
        "id": "AihujWBZxulS",
        "colab_type": "code",
        "colab": {
          "base_uri": "https://localhost:8080/",
          "height": 33
        },
        "outputId": "f6c0ef5a-0f09-4e21-aa06-c09e62b32ef7"
      },
      "source": [
        "# Python program concatenate following dictionaries to create a new one.\n",
        "\n",
        "dic1={1:10, 2:20}\n",
        "dic2={3:30, 4:40}\n",
        "dic3={5:50,6:60}\n",
        "dic4={}\n",
        "for d in (dic1, dic2): dic4.update(d)\n",
        "print(dic4)"
      ],
      "execution_count": null,
      "outputs": [
        {
          "output_type": "stream",
          "text": [
            "{1: 10, 2: 20, 3: 30, 4: 40}\n"
          ],
          "name": "stdout"
        }
      ]
    }
  ]
}