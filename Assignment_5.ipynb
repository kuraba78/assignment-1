{
  "nbformat": 4,
  "nbformat_minor": 0,
  "metadata": {
    "colab": {
      "name": "Assignment-5.ipynb",
      "provenance": [],
      "authorship_tag": "ABX9TyMrYmikHA3qS9eL2sqWxhPe",
      "include_colab_link": true
    },
    "kernelspec": {
      "name": "python3",
      "display_name": "Python 3"
    }
  },
  "cells": [
    {
      "cell_type": "markdown",
      "metadata": {
        "id": "view-in-github",
        "colab_type": "text"
      },
      "source": [
        "<a href=\"https://colab.research.google.com/github/kuraba78/assignment-1/blob/master/Assignment_5.ipynb\" target=\"_parent\"><img src=\"https://colab.research.google.com/assets/colab-badge.svg\" alt=\"Open In Colab\"/></a>"
      ]
    },
    {
      "cell_type": "code",
      "metadata": {
        "id": "eW8QXSuty-em",
        "colab_type": "code",
        "colab": {
          "base_uri": "https://localhost:8080/",
          "height": 67
        },
        "outputId": "5341ddba-aed3-4033-dc5a-d45539751a72"
      },
      "source": [
        "# Python program to find area of circle and perimeter of a circle using math function.\n",
        "\n",
        "import math\n",
        "class circle():\n",
        "    def __init__(self,radius):\n",
        "        self.radius=radius\n",
        "    def area(self):\n",
        "        return math.pi*(self.radius**2)\n",
        "    def perimeter(self):\n",
        "        return 2*math.pi*self.radius\n",
        " \n",
        "r=int(input(\"Enter radius of circle: \"))\n",
        "obj=circle(r)\n",
        "print(\"Area of circle:\",round(obj.area(),2))\n",
        "print(\"Perimeter of circle:\",round(obj.perimeter(),2))"
      ],
      "execution_count": null,
      "outputs": [
        {
          "output_type": "stream",
          "text": [
            "Enter radius of circle: 4\n",
            "Area of circle: 50.27\n",
            "Perimeter of circle: 25.13\n"
          ],
          "name": "stdout"
        }
      ]
    },
    {
      "cell_type": "code",
      "metadata": {
        "id": "f6yne976zDZj",
        "colab_type": "code",
        "colab": {
          "base_uri": "https://localhost:8080/",
          "height": 67
        },
        "outputId": "13b4d13a-b90b-4764-fab7-58415adff4e2"
      },
      "source": [
        "# Python program to find the area of a regular polygon using math funtion.\n",
        "\n",
        "from math import tan \n",
        "  \n",
        "def polyarea(n, a): \n",
        "      \n",
        "    if (a < 0 and n < 0): \n",
        "        return -1\n",
        "  \n",
        "    A = (a * a * n) / (4 * tan((180 / n) *3.14159 / 180)) \n",
        "                      \n",
        "  \n",
        "    return A \n",
        "  \n",
        "if __name__ == '__main__': \n",
        " a=int(input(\"Enter the value of a: \"))\n",
        " n=int(input(\"Enter the value of n: \"))\n",
        "  \n",
        "print('{0:.6}'.format(polyarea(n, a)))"
      ],
      "execution_count": null,
      "outputs": [
        {
          "output_type": "stream",
          "text": [
            "Enter the value of a: 9\n",
            "Enter the value of n: 6\n",
            "210.444\n"
          ],
          "name": "stdout"
        }
      ]
    },
    {
      "cell_type": "code",
      "metadata": {
        "id": "zbFMlPKZzYQj",
        "colab_type": "code",
        "colab": {
          "base_uri": "https://localhost:8080/",
          "height": 67
        },
        "outputId": "2872b9f0-3513-4147-bd76-81e8ad8e9cc9"
      },
      "source": [
        "# Python program to find area of segment of circle formula using math funtion.\n",
        "\n",
        "def sectorarea():\n",
        "    pi=22/7\n",
        "    radius = float(input('Radius of Circle: '))\n",
        "    angle = float(input('angle measure: '))\n",
        "    if angle >= 360:\n",
        "        print(\"Angle is not possible\")\n",
        "        return\n",
        "    sur_area = (pi*radius**2) * (angle/360)\n",
        "    print(\"Sector Area: \", sur_area)\n",
        "sectorarea()"
      ],
      "execution_count": null,
      "outputs": [
        {
          "output_type": "stream",
          "text": [
            "Radius of Circle: 4\n",
            "angle measure: 45\n",
            "Sector Area:  6.285714285714286\n"
          ],
          "name": "stdout"
        }
      ]
    },
    {
      "cell_type": "code",
      "metadata": {
        "id": "0ZVMo9i5zpbb",
        "colab_type": "code",
        "colab": {
          "base_uri": "https://localhost:8080/",
          "height": 34
        },
        "outputId": "44e5afda-b011-4cad-ae73-ec1df3ba6f77"
      },
      "source": [
        "# Python program to shuffle the list.\n",
        "\n",
        "from random import shuffle\n",
        "l1=[100,1,2,3,30,40,\"hai\",\"hello\"]\n",
        "shuffle(l1)\n",
        "print(l1)"
      ],
      "execution_count": null,
      "outputs": [
        {
          "output_type": "stream",
          "text": [
            "[40, 2, 30, 3, 1, 'hai', 100, 'hello']\n"
          ],
          "name": "stdout"
        }
      ]
    },
    {
      "cell_type": "code",
      "metadata": {
        "id": "qW7GH3Tszv_X",
        "colab_type": "code",
        "colab": {
          "base_uri": "https://localhost:8080/",
          "height": 50
        },
        "outputId": "5383d8c1-3fd3-4e88-bf53-5ca451b6e452"
      },
      "source": [
        "# Python program generate random numbers between 1,10000 and difference between each random number is 50.\n",
        "\n",
        "import random\n",
        "\n",
        "print(\"Random integer from 0 to 10000\")\n",
        "num1 = random.randrange(0,10000,50)\n",
        "print(\"Random integer: \", num1)"
      ],
      "execution_count": null,
      "outputs": [
        {
          "output_type": "stream",
          "text": [
            "Random integer from 0 to 10000\n",
            "Random integer:  9000\n"
          ],
          "name": "stdout"
        }
      ]
    },
    {
      "cell_type": "code",
      "metadata": {
        "id": "af6rrdQqz0qA",
        "colab_type": "code",
        "colab": {}
      },
      "source": [
        ""
      ],
      "execution_count": null,
      "outputs": []
    },
    {
      "cell_type": "markdown",
      "metadata": {
        "id": "XkQjza9Kz7GB",
        "colab_type": "text"
      },
      "source": [
        "Python programs by using math module:"
      ]
    },
    {
      "cell_type": "code",
      "metadata": {
        "id": "FcDYvFCKz9IG",
        "colab_type": "code",
        "colab": {
          "base_uri": "https://localhost:8080/",
          "height": 34
        },
        "outputId": "a67fc613-2bef-4348-a98f-3c8f84fc945b"
      },
      "source": [
        "math.sin(60)"
      ],
      "execution_count": null,
      "outputs": [
        {
          "output_type": "execute_result",
          "data": {
            "text/plain": [
              "-0.3048106211022167"
            ]
          },
          "metadata": {
            "tags": []
          },
          "execution_count": 6
        }
      ]
    },
    {
      "cell_type": "code",
      "metadata": {
        "id": "CsNs9oUmz_zh",
        "colab_type": "code",
        "colab": {
          "base_uri": "https://localhost:8080/",
          "height": 34
        },
        "outputId": "d0d091f4-6359-408b-849e-789b4d2ce48c"
      },
      "source": [
        "pi=22/7\n",
        "math.cos(pi)"
      ],
      "execution_count": null,
      "outputs": [
        {
          "output_type": "execute_result",
          "data": {
            "text/plain": [
              "-0.999999200533553"
            ]
          },
          "metadata": {
            "tags": []
          },
          "execution_count": 7
        }
      ]
    },
    {
      "cell_type": "code",
      "metadata": {
        "id": "T4EDpsi90DAR",
        "colab_type": "code",
        "colab": {
          "base_uri": "https://localhost:8080/",
          "height": 34
        },
        "outputId": "b08f7c69-e814-4d68-b7f3-c44ed40ee0c7"
      },
      "source": [
        "math.tan(90)"
      ],
      "execution_count": null,
      "outputs": [
        {
          "output_type": "execute_result",
          "data": {
            "text/plain": [
              "-1.995200412208242"
            ]
          },
          "metadata": {
            "tags": []
          },
          "execution_count": 8
        }
      ]
    },
    {
      "cell_type": "code",
      "metadata": {
        "id": "TXLAzMfA0NVN",
        "colab_type": "code",
        "colab": {
          "base_uri": "https://localhost:8080/",
          "height": 34
        },
        "outputId": "3a372ff3-3fcc-4315-d3fe-c913b3af29fa"
      },
      "source": [
        "math.degrees(1)"
      ],
      "execution_count": null,
      "outputs": [
        {
          "output_type": "execute_result",
          "data": {
            "text/plain": [
              "57.29577951308232"
            ]
          },
          "metadata": {
            "tags": []
          },
          "execution_count": 11
        }
      ]
    },
    {
      "cell_type": "code",
      "metadata": {
        "id": "C63rTsM30Tb7",
        "colab_type": "code",
        "colab": {
          "base_uri": "https://localhost:8080/",
          "height": 34
        },
        "outputId": "b08d4f43-667b-4ec9-902f-85ccb90572a8"
      },
      "source": [
        "math.sin(0.8660254037844386)"
      ],
      "execution_count": null,
      "outputs": [
        {
          "output_type": "execute_result",
          "data": {
            "text/plain": [
              "0.7617599814162892"
            ]
          },
          "metadata": {
            "tags": []
          },
          "execution_count": 12
        }
      ]
    },
    {
      "cell_type": "code",
      "metadata": {
        "id": "L1-lmQvP0bj9",
        "colab_type": "code",
        "colab": {
          "base_uri": "https://localhost:8080/",
          "height": 34
        },
        "outputId": "0bb29c05-b86b-49a8-bc70-a715eacb1ecd"
      },
      "source": [
        "math.sqrt(400)"
      ],
      "execution_count": null,
      "outputs": [
        {
          "output_type": "execute_result",
          "data": {
            "text/plain": [
              "20.0"
            ]
          },
          "metadata": {
            "tags": []
          },
          "execution_count": 13
        }
      ]
    },
    {
      "cell_type": "code",
      "metadata": {
        "id": "Tp5sVRDE0egu",
        "colab_type": "code",
        "colab": {
          "base_uri": "https://localhost:8080/",
          "height": 34
        },
        "outputId": "ebffc55b-abbd-4d30-9e46-57cd55e1f8b2"
      },
      "source": [
        "math.pow(5,math.e)"
      ],
      "execution_count": null,
      "outputs": [
        {
          "output_type": "execute_result",
          "data": {
            "text/plain": [
              "79.43235916621322"
            ]
          },
          "metadata": {
            "tags": []
          },
          "execution_count": 14
        }
      ]
    },
    {
      "cell_type": "code",
      "metadata": {
        "id": "JDK2MAtp0guq",
        "colab_type": "code",
        "colab": {
          "base_uri": "https://localhost:8080/",
          "height": 34
        },
        "outputId": "43cabe35-6d5b-4230-85af-0412d104cf92"
      },
      "source": [
        "math.log(1024,10)"
      ],
      "execution_count": null,
      "outputs": [
        {
          "output_type": "execute_result",
          "data": {
            "text/plain": [
              "3.0102999566398116"
            ]
          },
          "metadata": {
            "tags": []
          },
          "execution_count": 15
        }
      ]
    },
    {
      "cell_type": "code",
      "metadata": {
        "id": "OwMOgSYY0ivL",
        "colab_type": "code",
        "colab": {
          "base_uri": "https://localhost:8080/",
          "height": 34
        },
        "outputId": "4c5ebcc5-4e8a-4a3c-dff0-cd4b099cf4bb"
      },
      "source": [
        "math.log(1024,2)"
      ],
      "execution_count": null,
      "outputs": [
        {
          "output_type": "execute_result",
          "data": {
            "text/plain": [
              "10.0"
            ]
          },
          "metadata": {
            "tags": []
          },
          "execution_count": 16
        }
      ]
    },
    {
      "cell_type": "code",
      "metadata": {
        "id": "yYVF2D5X0ljC",
        "colab_type": "code",
        "colab": {
          "base_uri": "https://localhost:8080/",
          "height": 34
        },
        "outputId": "bba9bb74-1e6a-4740-afd6-b6ccc50399c9"
      },
      "source": [
        "math.floor(23.56)"
      ],
      "execution_count": null,
      "outputs": [
        {
          "output_type": "execute_result",
          "data": {
            "text/plain": [
              "23"
            ]
          },
          "metadata": {
            "tags": []
          },
          "execution_count": 17
        }
      ]
    },
    {
      "cell_type": "code",
      "metadata": {
        "id": "dh-TM68m0nr9",
        "colab_type": "code",
        "colab": {
          "base_uri": "https://localhost:8080/",
          "height": 34
        },
        "outputId": "4938e45a-c992-41eb-f5a0-32c1b639d702"
      },
      "source": [
        "math.ceil(23.56)"
      ],
      "execution_count": null,
      "outputs": [
        {
          "output_type": "execute_result",
          "data": {
            "text/plain": [
              "24"
            ]
          },
          "metadata": {
            "tags": []
          },
          "execution_count": 18
        }
      ]
    },
    {
      "cell_type": "code",
      "metadata": {
        "id": "DwbZiSOe0q_c",
        "colab_type": "code",
        "colab": {}
      },
      "source": [
        ""
      ],
      "execution_count": null,
      "outputs": []
    }
  ]
}