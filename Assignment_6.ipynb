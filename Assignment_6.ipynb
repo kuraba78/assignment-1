{
  "nbformat": 4,
  "nbformat_minor": 0,
  "metadata": {
    "colab": {
      "name": "Assignment-6.ipynb",
      "provenance": [],
      "authorship_tag": "ABX9TyN/xC87rja/HmXK1plpFQAa",
      "include_colab_link": true
    },
    "kernelspec": {
      "name": "python3",
      "display_name": "Python 3"
    }
  },
  "cells": [
    {
      "cell_type": "markdown",
      "metadata": {
        "id": "view-in-github",
        "colab_type": "text"
      },
      "source": [
        "<a href=\"https://colab.research.google.com/github/kuraba78/assignment-1/blob/master/Assignment_6.ipynb\" target=\"_parent\"><img src=\"https://colab.research.google.com/assets/colab-badge.svg\" alt=\"Open In Colab\"/></a>"
      ]
    },
    {
      "cell_type": "code",
      "metadata": {
        "id": "QE5FhOX8UnD7",
        "colab_type": "code",
        "colab": {
          "base_uri": "https://localhost:8080/",
          "height": 50
        },
        "outputId": "d04a5073-d0a6-402a-cef8-6306f1698b71"
      },
      "source": [
        "# Python program to convert binary number to decimal.\n",
        "\n",
        "b_num = list(input(\"Input a binary number: \"))\n",
        "value = 0\n",
        "\n",
        "for i in range(len(b_num)):\n",
        "\tdigit = b_num.pop()\n",
        "\tif digit == '1':\n",
        "\t\tvalue = value + pow(2, i)\n",
        "print(\"The decimal value of the number is\", value)"
      ],
      "execution_count": 1,
      "outputs": [
        {
          "output_type": "stream",
          "text": [
            "Input a binary number: 10010\n",
            "The decimal value of the number is 18\n"
          ],
          "name": "stdout"
        }
      ]
    },
    {
      "cell_type": "code",
      "metadata": {
        "id": "7OpN1WJ0Uom5",
        "colab_type": "code",
        "colab": {
          "base_uri": "https://localhost:8080/",
          "height": 134
        },
        "outputId": "2e6b81b4-e43d-4b6b-d5ce-155e4d2298b3"
      },
      "source": [
        "# Python program to generate N number of fibonacci numbers take n value from user. \n",
        "\n",
        "n = int(input(\"How many terms? \"))\n",
        "\n",
        "n1, n2 = 0, 1\n",
        "count = 0\n",
        "\n",
        "if n<= 0:\n",
        "   print(\"Please enter a positive integer\")\n",
        "elif n == 1:\n",
        "   print(\"Fibonacci sequence upto\",n,\":\")\n",
        "   print(n1)\n",
        "else:\n",
        "   print(\"Fibonacci sequence:\")\n",
        "   while count < n:\n",
        "       print(n1)\n",
        "       nth = n1 + n2\n",
        "    # update values\n",
        "       n1 = n2\n",
        "       n2 = nth\n",
        "       count += 1"
      ],
      "execution_count": 2,
      "outputs": [
        {
          "output_type": "stream",
          "text": [
            "How many terms? 5\n",
            "Fibonacci sequence:\n",
            "0\n",
            "1\n",
            "1\n",
            "2\n",
            "3\n"
          ],
          "name": "stdout"
        }
      ]
    },
    {
      "cell_type": "code",
      "metadata": {
        "id": "5TnnhZ5AUvhz",
        "colab_type": "code",
        "colab": {
          "base_uri": "https://localhost:8080/",
          "height": 202
        },
        "outputId": "c8022c17-0732-4cf4-e5f8-3b08a5e076df"
      },
      "source": [
        "# Python program to display multiplication table of num.Take num value from the user.\n",
        "\n",
        "num = int(input(\"Enter the number to display multiplication table: \"))\n",
        "\n",
        "for i in range(1, 11):\n",
        "   print(num, 'x', i, '=', num*i)"
      ],
      "execution_count": 3,
      "outputs": [
        {
          "output_type": "stream",
          "text": [
            "Enter the number to display multiplication table: 10\n",
            "10 x 1 = 10\n",
            "10 x 2 = 20\n",
            "10 x 3 = 30\n",
            "10 x 4 = 40\n",
            "10 x 5 = 50\n",
            "10 x 6 = 60\n",
            "10 x 7 = 70\n",
            "10 x 8 = 80\n",
            "10 x 9 = 90\n",
            "10 x 10 = 100\n"
          ],
          "name": "stdout"
        }
      ]
    },
    {
      "cell_type": "code",
      "metadata": {
        "id": "6sUJBr4fU18_",
        "colab_type": "code",
        "colab": {
          "base_uri": "https://localhost:8080/",
          "height": 437
        },
        "outputId": "707fab9c-61c9-48ca-ea47-4a1f9059b06e"
      },
      "source": [
        "# Python program to take 10 integers from keyboard using loop and print their average value on the screen.\n",
        "\n",
        "sum = 0\n",
        "\n",
        "i = 10\n",
        "while i>0:\n",
        "  print (\"Enter number\")\n",
        "  num = int(input())\n",
        "  sum = sum + num\n",
        "  i = i-1\n",
        "print (\"average is\",sum/10.0)\n",
        "# to print the patern\n",
        "i = 1\n",
        "while i<=4:\n",
        "  print (\"*\"*i)\n",
        "  i = i+1"
      ],
      "execution_count": 4,
      "outputs": [
        {
          "output_type": "stream",
          "text": [
            "Enter number\n",
            "1\n",
            "Enter number\n",
            "2\n",
            "Enter number\n",
            "3\n",
            "Enter number\n",
            "4\n",
            "Enter number\n",
            "5\n",
            "Enter number\n",
            "6\n",
            "Enter number\n",
            "7\n",
            "Enter number\n",
            "8\n",
            "Enter number\n",
            "9\n",
            "Enter number\n",
            "0\n",
            "average is 4.5\n",
            "*\n",
            "**\n",
            "***\n",
            "****\n"
          ],
          "name": "stdout"
        }
      ]
    },
    {
      "cell_type": "code",
      "metadata": {
        "id": "fhzMLuzrU8HA",
        "colab_type": "code",
        "colab": {
          "base_uri": "https://localhost:8080/",
          "height": 67
        },
        "outputId": "f7b7641f-a32a-4053-eade-1d5ab63d1afd"
      },
      "source": [
        "# Python program to find greatest common divisor (gcd) or highest common factor of given two numbers.\n",
        "\n",
        "def gcd(a,b): \n",
        "       \n",
        "    if (a == 0): \n",
        "        return b \n",
        "    if (b == 0): \n",
        "        return a \n",
        "   \n",
        "    if (a == b): \n",
        "        return a \n",
        "  \n",
        "    if (a > b): \n",
        "        return gcd(a-b, b) \n",
        "    return gcd(a, b-a) \n",
        "   \n",
        "a = int(input(\"Enter the value of a: \"))\n",
        "b = int(input(\"Enter the value of b: \"))\n",
        "if(gcd(a, b)): \n",
        "    print('GCD of', a, 'and', b, 'is', gcd(a, b)) \n",
        "else: \n",
        "    print('not found')"
      ],
      "execution_count": 5,
      "outputs": [
        {
          "output_type": "stream",
          "text": [
            "Enter the value of a: 4\n",
            "Enter the value of b: 9\n",
            "GCD of 4 and 9 is 1\n"
          ],
          "name": "stdout"
        }
      ]
    },
    {
      "cell_type": "code",
      "metadata": {
        "id": "FOysUt-jVI5o",
        "colab_type": "code",
        "colab": {
          "base_uri": "https://localhost:8080/",
          "height": 67
        },
        "outputId": "c880046c-75cd-4970-fdcf-d6a35507c6eb"
      },
      "source": [
        "# Python program that accepts a word from the user and reverse it.\n",
        "\n",
        "word = input(\"Input a word to reverse: \")\n",
        "\n",
        "for char in range(len(word) - 1, -1, -1):\n",
        "  print(word[char], end=\"\")\n",
        "print(\"\\n\")"
      ],
      "execution_count": 6,
      "outputs": [
        {
          "output_type": "stream",
          "text": [
            "Input a word to reverse: hello\n",
            "olleh\n",
            "\n"
          ],
          "name": "stdout"
        }
      ]
    },
    {
      "cell_type": "code",
      "metadata": {
        "id": "LwuL2eSSVPA0",
        "colab_type": "code",
        "colab": {
          "base_uri": "https://localhost:8080/",
          "height": 50
        },
        "outputId": "4fd57ded-4727-4db0-ddd9-1e838297e5db"
      },
      "source": [
        "# Python program to to count the number of even and odd numbers from a series of numbers.\n",
        "\n",
        "numbers = (1, 2, 3, 4, 5, 6, 7, 8, 9)\n",
        "count_odd = 0\n",
        "count_even = 0\n",
        "for x in numbers:\n",
        "        if not x % 2:\n",
        "    \t     count_even+=1\n",
        "        else:\n",
        "    \t     count_odd+=1\n",
        "print(\"Number of even numbers :\",count_even)\n",
        "print(\"Number of odd numbers :\",count_odd)"
      ],
      "execution_count": 7,
      "outputs": [
        {
          "output_type": "stream",
          "text": [
            "Number of even numbers : 4\n",
            "Number of odd numbers : 5\n"
          ],
          "name": "stdout"
        }
      ]
    },
    {
      "cell_type": "code",
      "metadata": {
        "id": "d9eksx3_VVIu",
        "colab_type": "code",
        "colab": {
          "base_uri": "https://localhost:8080/",
          "height": 50
        },
        "outputId": "a4902af6-a3bd-4265-f790-bda224a804ca"
      },
      "source": [
        "# Python program that prints all of the numbers from 0 to 6 except 3 and 6.\n",
        "\n",
        "for x in range(6):\n",
        "    if (x == 3 or x==6):\n",
        "        continue\n",
        "    print(x,end=' ')\n",
        "print(\"\\n\")"
      ],
      "execution_count": 8,
      "outputs": [
        {
          "output_type": "stream",
          "text": [
            "0 1 2 4 5 \n",
            "\n"
          ],
          "name": "stdout"
        }
      ]
    },
    {
      "cell_type": "code",
      "metadata": {
        "id": "Z1Oee7emVX6C",
        "colab_type": "code",
        "colab": {}
      },
      "source": [
        ""
      ],
      "execution_count": null,
      "outputs": []
    }
  ]
}