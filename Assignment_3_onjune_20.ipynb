{
  "nbformat": 4,
  "nbformat_minor": 0,
  "metadata": {
    "colab": {
      "name": "Assignment-3_onjune 21.ipynb",
      "provenance": [],
      "authorship_tag": "ABX9TyOgBkuM7MUvljihuSkPgL0P",
      "include_colab_link": true
    },
    "kernelspec": {
      "name": "python3",
      "display_name": "Python 3"
    }
  },
  "cells": [
    {
      "cell_type": "markdown",
      "metadata": {
        "id": "view-in-github",
        "colab_type": "text"
      },
      "source": [
        "<a href=\"https://colab.research.google.com/github/kuraba78/assignment-1/blob/master/Assignment_3_onjune_21.ipynb\" target=\"_parent\"><img src=\"https://colab.research.google.com/assets/colab-badge.svg\" alt=\"Open In Colab\"/></a>"
      ]
    },
    {
      "cell_type": "code",
      "metadata": {
        "id": "LLCd6tahHPf9",
        "colab_type": "code",
        "colab": {
          "base_uri": "https://localhost:8080/",
          "height": 67
        },
        "outputId": "6008dc9d-19b2-4343-df6e-d902c685f0a5"
      },
      "source": [
        "# Python program to check wheather the given two values are equal or not.\n",
        "\n",
        "x=input(\"Enter the first value\")\n",
        "y=input(\"Enter the second value\")\n",
        "if x == y:\n",
        "  print(\"Both inputs are equal\")\n",
        "else:\n",
        "  print(\"Your input is not equal.\")"
      ],
      "execution_count": null,
      "outputs": [
        {
          "output_type": "stream",
          "text": [
            "Enter the first value4\n",
            "Enter the second value4\n",
            "Both inputs are equal\n"
          ],
          "name": "stdout"
        }
      ]
    },
    {
      "cell_type": "code",
      "metadata": {
        "id": "vm9kjQ1eHanW",
        "colab_type": "code",
        "colab": {
          "base_uri": "https://localhost:8080/",
          "height": 84
        },
        "outputId": "702c84c9-6b1e-4cf4-854a-baf2a36b18d6"
      },
      "source": [
        "# Python program to check wheather the given three values are All are equal or not(\"By using and\")\n",
        "\n",
        "a=input(\"Enter the value of a \")\n",
        "b=input(\"Enter the value of b \")\n",
        "c=input(\"Enter the value of c \")\n",
        "a == b and b == c"
      ],
      "execution_count": null,
      "outputs": [
        {
          "output_type": "stream",
          "text": [
            "Enter the value of a 2\n",
            "Enter the value of b 2\n",
            "Enter the value of c 2\n"
          ],
          "name": "stdout"
        },
        {
          "output_type": "execute_result",
          "data": {
            "text/plain": [
              "True"
            ]
          },
          "metadata": {
            "tags": []
          },
          "execution_count": 3
        }
      ]
    },
    {
      "cell_type": "code",
      "metadata": {
        "id": "cmBHdzn2HmFM",
        "colab_type": "code",
        "colab": {
          "base_uri": "https://localhost:8080/",
          "height": 84
        },
        "outputId": "91dd481c-b2d2-4cfc-9f39-a505143ed29f"
      },
      "source": [
        "# Python program to check wheather the given three values are atleast any of two equal or not(\"By using or\")\n",
        "\n",
        "a=input(\"Enter the value of a \")\n",
        "b=input(\"Enter the value of b \")\n",
        "c=input(\"Enter the value of c \")\n",
        "a == b or b == c or c == a"
      ],
      "execution_count": null,
      "outputs": [
        {
          "output_type": "stream",
          "text": [
            "Enter the value of a 2\n",
            "Enter the value of b 3\n",
            "Enter the value of c 2\n"
          ],
          "name": "stdout"
        },
        {
          "output_type": "execute_result",
          "data": {
            "text/plain": [
              "True"
            ]
          },
          "metadata": {
            "tags": []
          },
          "execution_count": 4
        }
      ]
    },
    {
      "cell_type": "code",
      "metadata": {
        "id": "b9umG2clHvd_",
        "colab_type": "code",
        "colab": {
          "base_uri": "https://localhost:8080/",
          "height": 84
        },
        "outputId": "8ccd1024-7c70-4c8c-9bd4-b211d7a080fb"
      },
      "source": [
        "# Python program to check wheather the sum of two numbers is :\n",
        "# 1. greater than 5\n",
        "# 2. less than 5\n",
        "# 3. equal to 5\n",
        "l=int(input(\"Enter the value of l= \"))\n",
        "m=int(input(\"Enter the value of m= \"))\n",
        "sum = l + m\n",
        "print(\"the sum of l and m is\",sum)\n",
        "if sum > 5:\n",
        "  print(\"The given values sum is greater than 5 \")\n",
        "elif sum < 5:\n",
        "  print(\"The given values sum is lesser than 5 \")\n",
        "else:\n",
        "  print(\"The given values sum is equal to 5\")\n"
      ],
      "execution_count": null,
      "outputs": [
        {
          "output_type": "stream",
          "text": [
            "Enter the value of l= 2\n",
            "Enter the value of m= 3\n",
            "the sum of l and m is 5\n",
            "The given values sum is equal to 5\n"
          ],
          "name": "stdout"
        }
      ]
    },
    {
      "cell_type": "code",
      "metadata": {
        "id": "ryxqSak7H3Zr",
        "colab_type": "code",
        "colab": {
          "base_uri": "https://localhost:8080/",
          "height": 50
        },
        "outputId": "4c4a1eb0-ae51-4e86-97d0-ab0808103504"
      },
      "source": [
        "# Python program to check Suppose passing marks of a subject is 35. Take input of marks from user and check whether it is greater than passing marks or not.\n",
        "\n",
        "pasing_marks = 35\n",
        "marks = int(input(\"Enter the marks \"))\n",
        "print (\"Marks is greater than passing marks:\",marks>pasing_marks)"
      ],
      "execution_count": null,
      "outputs": [
        {
          "output_type": "stream",
          "text": [
            "Enter the marks 38\n",
            "Marks is greater than passing marks: True\n"
          ],
          "name": "stdout"
        }
      ]
    },
    {
      "cell_type": "code",
      "metadata": {
        "id": "mLYxKtAtIAwz",
        "colab_type": "code",
        "colab": {
          "base_uri": "https://localhost:8080/",
          "height": 34
        },
        "outputId": "dae3e2e2-ddf8-4257-edef-8f7efc400d97"
      },
      "source": [
        "# Python program to find the Max of three numbers.\n",
        "\n",
        "def max_of_two( x, y ):\n",
        "    if x > y:\n",
        "        return x\n",
        "    return y\n",
        "def max_of_three( x, y, z ):\n",
        "    return max_of_two( x, max_of_two( y, z ) )\n",
        "print(max_of_three(1, 2, -5))\n"
      ],
      "execution_count": null,
      "outputs": [
        {
          "output_type": "stream",
          "text": [
            "2\n"
          ],
          "name": "stdout"
        }
      ]
    },
    {
      "cell_type": "code",
      "metadata": {
        "id": "T3_-xx4iII0r",
        "colab_type": "code",
        "colab": {}
      },
      "source": [
        ""
      ],
      "execution_count": null,
      "outputs": []
    }
  ]
}
